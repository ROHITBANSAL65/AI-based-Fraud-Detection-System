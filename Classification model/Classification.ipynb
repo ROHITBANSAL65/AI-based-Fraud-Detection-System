{
 "cells": [
  {
   "cell_type": "code",
   "execution_count": 13,
   "id": "e7f2e2e6-f68b-4b09-9fbe-2e301158b261",
   "metadata": {},
   "outputs": [
    {
     "name": "stdout",
     "output_type": "stream",
     "text": [
      "Requirement already satisfied: ultralytics in c:\\users\\deiva raja\\documents\\sample\\myenv\\lib\\site-packages (8.3.59)\n",
      "Requirement already satisfied: seaborn>=0.11.0 in c:\\users\\deiva raja\\documents\\sample\\myenv\\lib\\site-packages (from ultralytics) (0.13.2)\n",
      "Requirement already satisfied: ultralytics-thop>=2.0.0 in c:\\users\\deiva raja\\documents\\sample\\myenv\\lib\\site-packages (from ultralytics) (2.0.13)\n",
      "Requirement already satisfied: pillow>=7.1.2 in c:\\users\\deiva raja\\documents\\sample\\myenv\\lib\\site-packages (from ultralytics) (11.1.0)\n",
      "Requirement already satisfied: scipy>=1.4.1 in c:\\users\\deiva raja\\documents\\sample\\myenv\\lib\\site-packages (from ultralytics) (1.13.1)\n",
      "Requirement already satisfied: psutil in c:\\users\\deiva raja\\documents\\sample\\myenv\\lib\\site-packages (from ultralytics) (6.1.1)\n",
      "Requirement already satisfied: matplotlib>=3.3.0 in c:\\users\\deiva raja\\documents\\sample\\myenv\\lib\\site-packages (from ultralytics) (3.9.4)\n",
      "Requirement already satisfied: torch>=1.8.0 in c:\\users\\deiva raja\\documents\\sample\\myenv\\lib\\site-packages (from ultralytics) (2.5.1)\n",
      "Requirement already satisfied: tqdm>=4.64.0 in c:\\users\\deiva raja\\documents\\sample\\myenv\\lib\\site-packages (from ultralytics) (4.67.1)\n",
      "Requirement already satisfied: opencv-python>=4.6.0 in c:\\users\\deiva raja\\documents\\sample\\myenv\\lib\\site-packages (from ultralytics) (4.10.0.84)\n",
      "Requirement already satisfied: py-cpuinfo in c:\\users\\deiva raja\\documents\\sample\\myenv\\lib\\site-packages (from ultralytics) (9.0.0)\n",
      "Requirement already satisfied: pandas>=1.1.4 in c:\\users\\deiva raja\\documents\\sample\\myenv\\lib\\site-packages (from ultralytics) (2.2.3)\n",
      "Requirement already satisfied: pyyaml>=5.3.1 in c:\\users\\deiva raja\\documents\\sample\\myenv\\lib\\site-packages (from ultralytics) (6.0.2)\n",
      "Requirement already satisfied: numpy>=1.23.0 in c:\\users\\deiva raja\\documents\\sample\\myenv\\lib\\site-packages (from ultralytics) (2.0.2)\n",
      "Requirement already satisfied: requests>=2.23.0 in c:\\users\\deiva raja\\documents\\sample\\myenv\\lib\\site-packages (from ultralytics) (2.32.3)\n",
      "Requirement already satisfied: torchvision>=0.9.0 in c:\\users\\deiva raja\\documents\\sample\\myenv\\lib\\site-packages (from ultralytics) (0.20.1)\n",
      "Requirement already satisfied: python-dateutil>=2.7 in c:\\users\\deiva raja\\documents\\sample\\myenv\\lib\\site-packages (from matplotlib>=3.3.0->ultralytics) (2.9.0.post0)\n",
      "Requirement already satisfied: pyparsing>=2.3.1 in c:\\users\\deiva raja\\documents\\sample\\myenv\\lib\\site-packages (from matplotlib>=3.3.0->ultralytics) (3.2.1)\n",
      "Requirement already satisfied: importlib-resources>=3.2.0 in c:\\users\\deiva raja\\documents\\sample\\myenv\\lib\\site-packages (from matplotlib>=3.3.0->ultralytics) (6.5.2)\n",
      "Requirement already satisfied: packaging>=20.0 in c:\\users\\deiva raja\\documents\\sample\\myenv\\lib\\site-packages (from matplotlib>=3.3.0->ultralytics) (24.2)\n",
      "Requirement already satisfied: kiwisolver>=1.3.1 in c:\\users\\deiva raja\\documents\\sample\\myenv\\lib\\site-packages (from matplotlib>=3.3.0->ultralytics) (1.4.7)\n",
      "Requirement already satisfied: contourpy>=1.0.1 in c:\\users\\deiva raja\\documents\\sample\\myenv\\lib\\site-packages (from matplotlib>=3.3.0->ultralytics) (1.3.0)\n",
      "Requirement already satisfied: cycler>=0.10 in c:\\users\\deiva raja\\documents\\sample\\myenv\\lib\\site-packages (from matplotlib>=3.3.0->ultralytics) (0.12.1)\n",
      "Requirement already satisfied: fonttools>=4.22.0 in c:\\users\\deiva raja\\documents\\sample\\myenv\\lib\\site-packages (from matplotlib>=3.3.0->ultralytics) (4.55.3)\n",
      "Requirement already satisfied: pytz>=2020.1 in c:\\users\\deiva raja\\documents\\sample\\myenv\\lib\\site-packages (from pandas>=1.1.4->ultralytics) (2024.2)\n",
      "Requirement already satisfied: tzdata>=2022.7 in c:\\users\\deiva raja\\documents\\sample\\myenv\\lib\\site-packages (from pandas>=1.1.4->ultralytics) (2024.2)\n",
      "Requirement already satisfied: charset-normalizer<4,>=2 in c:\\users\\deiva raja\\documents\\sample\\myenv\\lib\\site-packages (from requests>=2.23.0->ultralytics) (3.4.1)\n",
      "Requirement already satisfied: certifi>=2017.4.17 in c:\\users\\deiva raja\\documents\\sample\\myenv\\lib\\site-packages (from requests>=2.23.0->ultralytics) (2024.12.14)\n",
      "Requirement already satisfied: idna<4,>=2.5 in c:\\users\\deiva raja\\documents\\sample\\myenv\\lib\\site-packages (from requests>=2.23.0->ultralytics) (3.10)\n",
      "Requirement already satisfied: urllib3<3,>=1.21.1 in c:\\users\\deiva raja\\documents\\sample\\myenv\\lib\\site-packages (from requests>=2.23.0->ultralytics) (2.3.0)\n",
      "Requirement already satisfied: filelock in c:\\users\\deiva raja\\documents\\sample\\myenv\\lib\\site-packages (from torch>=1.8.0->ultralytics) (3.16.1)\n",
      "Requirement already satisfied: typing-extensions>=4.8.0 in c:\\users\\deiva raja\\documents\\sample\\myenv\\lib\\site-packages (from torch>=1.8.0->ultralytics) (4.12.2)\n",
      "Requirement already satisfied: jinja2 in c:\\users\\deiva raja\\documents\\sample\\myenv\\lib\\site-packages (from torch>=1.8.0->ultralytics) (3.1.5)\n",
      "Requirement already satisfied: sympy==1.13.1 in c:\\users\\deiva raja\\documents\\sample\\myenv\\lib\\site-packages (from torch>=1.8.0->ultralytics) (1.13.1)\n",
      "Requirement already satisfied: fsspec in c:\\users\\deiva raja\\documents\\sample\\myenv\\lib\\site-packages (from torch>=1.8.0->ultralytics) (2024.12.0)\n",
      "Requirement already satisfied: networkx in c:\\users\\deiva raja\\documents\\sample\\myenv\\lib\\site-packages (from torch>=1.8.0->ultralytics) (3.2.1)\n",
      "Requirement already satisfied: mpmath<1.4,>=1.1.0 in c:\\users\\deiva raja\\documents\\sample\\myenv\\lib\\site-packages (from sympy==1.13.1->torch>=1.8.0->ultralytics) (1.3.0)\n",
      "Requirement already satisfied: colorama in c:\\users\\deiva raja\\documents\\sample\\myenv\\lib\\site-packages (from tqdm>=4.64.0->ultralytics) (0.4.6)\n",
      "Requirement already satisfied: zipp>=3.1.0 in c:\\users\\deiva raja\\documents\\sample\\myenv\\lib\\site-packages (from importlib-resources>=3.2.0->matplotlib>=3.3.0->ultralytics) (3.21.0)\n",
      "Requirement already satisfied: six>=1.5 in c:\\users\\deiva raja\\documents\\sample\\myenv\\lib\\site-packages (from python-dateutil>=2.7->matplotlib>=3.3.0->ultralytics) (1.17.0)\n",
      "Requirement already satisfied: MarkupSafe>=2.0 in c:\\users\\deiva raja\\documents\\sample\\myenv\\lib\\site-packages (from jinja2->torch>=1.8.0->ultralytics) (3.0.2)\n"
     ]
    },
    {
     "name": "stderr",
     "output_type": "stream",
     "text": [
      "WARNING: You are using pip version 22.0.4; however, version 24.3.1 is available.\n",
      "You should consider upgrading via the 'C:\\Users\\DEIVA RAJA\\Documents\\sample\\myenv\\Scripts\\python.exe -m pip install --upgrade pip' command.\n"
     ]
    }
   ],
   "source": [
    "!pip install ultralytics\n"
   ]
  },
  {
   "cell_type": "code",
   "execution_count": 1,
   "id": "3fa65f26-bcfa-41fc-873f-47a109e704d8",
   "metadata": {},
   "outputs": [],
   "source": [
    "from ultralytics import YOLO\n",
    "model = YOLO(\"yolo11n-cls.pt\")"
   ]
  },
  {
   "cell_type": "code",
   "execution_count": 2,
   "id": "2db5f7df-f78c-4544-9f10-ed5f7da8f8a5",
   "metadata": {},
   "outputs": [],
   "source": [
    "#results = model.train(data=r\"C:\\Users\\DEIVA RAJA\\Documents\\Infosys_Training\\Classification model\\Classification dataset\\Classification dataset\", epochs=12, imgsz=640, batch=8)\n"
   ]
  },
  {
   "cell_type": "code",
   "execution_count": 3,
   "id": "343b910d-fb3a-463e-8632-f09f0f2ea741",
   "metadata": {},
   "outputs": [],
   "source": [
    "model = YOLO(\"C:/Users/DEIVA RAJA/runs/classify/train6/weights/best.pt\")\n"
   ]
  },
  {
   "cell_type": "code",
   "execution_count": 5,
   "id": "8c93090c-5450-402c-9167-a2275c8ded0b",
   "metadata": {},
   "outputs": [
    {
     "name": "stdout",
     "output_type": "stream",
     "text": [
      "\n",
      "image 1/1 C:\\Users\\DEIVA RAJA\\Documents\\Infosys_Training\\Classification model\\aadhar1.jpg: 640x640 non_aadhar 1.00, aadhar 0.00, 144.3ms\n",
      "Speed: 536.4ms preprocess, 144.3ms inference, 0.0ms postprocess per image at shape (1, 3, 640, 640)\n"
     ]
    }
   ],
   "source": [
    "# Path to the Aadhaar card image\n",
    "image_path = r\"C:\\Users\\DEIVA RAJA\\Documents\\Infosys_Training\\Classification model\\aadhar1.jpg\"\n",
    "\n",
    "\n",
    "# Perform prediction\n",
    "results = model.predict(source=image_path)\n",
    "\n",
    "\n",
    "\n"
   ]
  },
  {
   "cell_type": "code",
   "execution_count": null,
   "id": "cae08991-1607-4d75-9cc9-a0591f88201a",
   "metadata": {},
   "outputs": [],
   "source": []
  }
 ],
 "metadata": {
  "kernelspec": {
   "display_name": "Python 3 (ipykernel)",
   "language": "python",
   "name": "python3"
  },
  "language_info": {
   "codemirror_mode": {
    "name": "ipython",
    "version": 3
   },
   "file_extension": ".py",
   "mimetype": "text/x-python",
   "name": "python",
   "nbconvert_exporter": "python",
   "pygments_lexer": "ipython3",
   "version": "3.9.13"
  }
 },
 "nbformat": 4,
 "nbformat_minor": 5
}
